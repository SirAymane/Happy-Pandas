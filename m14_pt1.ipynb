{
  "cells": [
    {
      "cell_type": "markdown",
      "metadata": {
        "id": "NEimDN26v7ou"
      },
      "source": [
        "# Exercice 1\n",
        "## Exploring medical and health data with Python and pandas\n",
        "\n",
        "#### Marc Coca Moreno\n",
        "#### Aymane El Hanbali \n",
        "#### Melania Prado Gutierrez"
      ]
    },
    {
      "cell_type": "markdown",
      "metadata": {},
      "source": [
        "# Introduction\n",
        "\n",
        "The following document aims to show the main results of the first practice of M14 - Bioinformatics.\n",
        "\n",
        "The topic of the essay is about processing and analyzing health related data in order to produce a technical scientific report of the findings.\n",
        "\n",
        "In our case, we choose as the principal dataset the count of weekly deaths registered in the geographical units of European Union. In order to analyze properly this dataset, we also need to use demographic data (population counts) and catalogues of the geographical european unit entities (NUTS).\n",
        "\n",
        "All the data comes from [Eurostat](https://ec.europa.eu/eurostat) and can be accessed with the following links:\n",
        "\n",
        "1. Weekly deaths by sex, age (by 5) and NUTS-3: https://ec.europa.eu/eurostat/estat-navtree-portlet-prod/BulkDownloadListing?file=data/demo_r_mweek3.tsv.gz\n",
        "\n",
        "2. Population by sex, age (by 5) and NUTS-3: https://ec.europa.eu/eurostat/estat-navtree-portlet-prod/BulkDownloadListing?file=data/demo_r_pjangrp3.tsv.gz\n",
        "\n",
        "3. NUTS 2021 catalogue: https://ec.europa.eu/eurostat/documents/345175/629341/NUTS2021.xlsx\n",
        "\n",
        "## Starting point: 'raw_data' folder\n",
        "\n",
        "The three main datasets mentioned above are the original ones and, in some cases, they contain more data than is needed. For this reason, we do some subsetting before in order to reduce the size of the files.\n",
        "\n",
        "In particular, the weekly deaths dataset, that contains data from 2000 to 2022, is initially filtered just to keep a range interval from 2020 to 2021. The main structure and errors present in dataset are kept as they are in order to fix them along the essay.\n",
        "\n",
        "Also, population data is filtered to match the same periode (2020-2021).\n",
        "\n",
        "Finally, NUTS3 catalogue are imported as they ara and no transformation is requiered in this step.\n",
        "\n",
        "This first integration can be reproduced with the 'create_raw_data.py' script.\n",
        "\n",
        "Keep in mind that this essay assume that row_data folder and the three datasets exist. They are the starting point from now on.\n",
        "\n",
        "## create_raw_data.py\n",
        "\n",
        "The main procedures carried out in this script are the following:\n",
        "\n",
        "    (1) The original data (deaths, population and NUTS3 catalogue) from Eurostat is fetched.\n",
        "    (2) Column names are trimmed (whitespaces).\n",
        "    (3) Deaths and population temporal range are equalized (same time periode).\n",
        "    (4) Finally, data is exported as CSV in raw_data folder."
      ]
    },
    {
      "cell_type": "code",
      "execution_count": null,
      "metadata": {},
      "outputs": [],
      "source": [
        "from create_raw_data import fill_raw_data_folder\n",
        "\n",
        "#fill_raw_data_folder()"
      ]
    },
    {
      "cell_type": "markdown",
      "metadata": {},
      "source": [
        "# Question 1: import and describe your data\n",
        "\n",
        "In the following sections, the used datasets are described.\n",
        "\n",
        "## Context: data and references\n",
        "\n",
        "As stated before, we play with 3 main datasets:\n",
        "    (1) Weekly deaths in European Union by sex, age (5) and NUTS geographical entities.\n",
        "    (2) Annual population in European Union by sex, age (5) and NUTS geographical entities.\n",
        "    (3) NUTS catalogue.\n",
        "\n",
        "All these datasets come from Eurostat database and can be described as following:\n",
        "\n",
        "    (1) Count of deaths by different levels of aggregation.\n",
        "    (2) Population count by different levels of aggregation.\n",
        "    (3) Codes and labels of NUTS geographical entities.\n",
        "\n",
        "For a more detailed explanation, visit the Eurostat descriptions of the data:\n",
        "\n",
        "    (1) https://ec.europa.eu/eurostat/statistics-explained/index.php?title=Weekly_death_statistics\n",
        "    (2) https://ec.europa.eu/eurostat/cache/metadata/en/demo_r_gind3_esms.htm\n",
        "    (3) https://sdi.eea.europa.eu/catalogue/srv9008075/api/records/60719905-dd2c-4c65-997b-4b9f25bc42d7\n",
        "\n",
        "We only use a temporal subset of the data: from 2020 to 2021.\n",
        "\n",
        "## Variables\n",
        "\n",
        "Mainly, we are going to use all columns present on the datasets, we just ignore some variables of NUTS catalogue. As it comes from Eurostat, the structure of the datasets must be reshaped and fixed. In short, the structure is as follows:\n",
        "\n",
        "    (1) Deaths:\n",
        "        · \"unit,sex,age,geo\\time\" (str) --> Collapsed var with a constat NR (National Region) value + sex + age group (by 5) and NUTS level.\n",
        "        · The remaining columns (int) --> describe the year+week of the value (count of deaths) with the following format: \"%YW%W\". Format integer.\n",
        "\n",
        "    (2) Population:\n",
        "        · \"sex,unit,age,geo\\time\" (str) --> Collapsed var with sex + constant NR + Age group + NUTS level\n",
        "        · The remaining columns (int) --> describe the year of the population value.\n",
        "\n",
        "    (3) NUTS3 catalogue:\n",
        "        · Code (str) --> code of NUTS level. The lenght of the code depends on the level referenced: Country (2), NUTS-1 (3), NUTS-2 (4), NUTS-3 (5).\n",
        "        · Country (str) --> country name of the NUTS code if NUTS level code is country; if not, the cell is blank.\n",
        "        · NUTS level 1 (str) --> NUTS1 name of the NUTS code if NUTS level code is NUTS1; if not, the cell is blank.\n",
        "        · NUTS level 2 (str) --> NUTS2 name of the NUTS code if NUTS level code is NUTS2; if not, the cell is blank.\n",
        "        · NUTS level 3 (str) --> NUTS3 name of the NUTS code if NUTS level code is NUTS3; if not, the cell is blank.\n",
        "        · The remaining columns (mixed) --> they are going to be ignored.\n",
        "\n",
        "## How many rows there are?\n",
        "\n",
        "In this case, the count NA rows is a bit tricky: deaths and population data has a symbol \":\" when no data is present, so no NA will be identified.\n",
        "\n",
        "For NUTS catalogue, all rows register at least 1 NA becouse their columns are mutually exclusive. For example, if code is about the Country, just the country name will be present and all the other features are kept in blank (NA).\n",
        "\n",
        "Next the results are shown:"
      ]
    },
    {
      "cell_type": "code",
      "execution_count": null,
      "metadata": {},
      "outputs": [],
      "source": [
        "from ex1 import get_row_count\n",
        "\n",
        "deaths_n_rows: int = get_row_count(\"deaths_data.csv\")\n",
        "population_n_rows: int = get_row_count(\"population_data.csv\")\n",
        "nuts3_n_rows: int = get_row_count(\"nuts3_catalogue.csv\")\n",
        "\n",
        "print(f\"Total rows of deaths dataset: {deaths_n_rows}\")\n",
        "print(f\"Total rows of population dataset: {population_n_rows}\")\n",
        "print(f\"Total rows of NUTS3 catalogue dataset: {nuts3_n_rows}\") "
      ]
    },
    {
      "cell_type": "markdown",
      "metadata": {},
      "source": [
        "## Are there any NAs?\n",
        "\n",
        "Identify NA values is a little tricky in these datasets: population and deaths data register a \":\" symbol when empty; variables of NUTS catalogue data are mutually exclusive.\n",
        "\n",
        "Thus, we will not find any NA value in deaths and population datasets. On the contrary, NUTS dataset present at least one NA per row."
      ]
    },
    {
      "cell_type": "code",
      "execution_count": null,
      "metadata": {},
      "outputs": [],
      "source": [
        "from ex1 import get_count_nas\n",
        "\n",
        "deaths_n_na: int = get_count_nas(\"deaths_data.csv\")\n",
        "population_n_na: int = get_count_nas(\"population_data.csv\")\n",
        "nuts3_n_na: int = get_count_nas(\"nuts3_catalogue.csv\")\n",
        "\n",
        "print(f\"Total rows with NA value of deaths dataset: {deaths_n_na}\")\n",
        "print(f\"Total rows with NA value of population dataset: {population_n_na}\")\n",
        "print(f\"Total rows with NA value of NUTS3 catalogue dataset: {nuts3_n_na}\") "
      ]
    },
    {
      "cell_type": "markdown",
      "metadata": {},
      "source": [
        "## Top 5 rows of datasets"
      ]
    },
    {
      "cell_type": "code",
      "execution_count": null,
      "metadata": {},
      "outputs": [],
      "source": [
        "from ex1 import print_top_rows\n",
        "\n",
        "print_top_rows(\"deaths_data.csv\")\n",
        "print_top_rows(\"population_data.csv\")\n",
        "print_top_rows(\"nuts3_catalogue.csv\")"
      ]
    },
    {
      "cell_type": "markdown",
      "metadata": {},
      "source": [
        "# Question 2. Fix and clean datasets\n",
        "\n",
        "In this section we are going to fix, clean and, basically, make our datasets \"tidy\". The results can be found in 'tidy_data' folder, where the previous data are reshaped properly, and 'clean_data', where tidy_data has been cleaned and prepared for further exercices.\n",
        "\n",
        " We are going to make the following transformations:\n",
        "\n",
        "    (1) Deaths and population datasets:\n",
        "        · Split the collapsed variable unit,sex,age,geo\\time\n",
        "        · We only keep NUTS 3 level: totals and upper level of aggregations are removed as we can recalculated with NUTS-3.\n",
        "        · Reshape years columns to long format: column names are going to be placed in a variable call time and the values in a variable called deaths\n",
        "\n",
        "    (2) NUTS Catalogue:\n",
        "        · We only keep NUTS3 level.\n",
        "        · Upper levels of aggregation are going to be places as columns.\n",
        "\n",
        "In this way, we finally get three reshaped dataframes with the following variables:\n",
        "\n",
        "    (1) deaths_reshaped:\n",
        "        · sex (str)\n",
        "        · age (str)\n",
        "        · nuts (str): NUTS-3 level\n",
        "        · year_week (str)\n",
        "        · deaths (int)\n",
        "        · is_provisional (bool)\n",
        "        · year (int)\n",
        "        · week (int)\n",
        "\n",
        "    (2) population_reshaped:\n",
        "        · sex\n",
        "        · age\n",
        "        · nuts: NUTS-3 level\n",
        "        · year (int)\n",
        "        · population (int)\n",
        "        · is_provisional (bool)\n",
        "\n",
        "    (3) nuts3_catalogue_reshaped:\n",
        "        · nuts3_code (str): ID\n",
        "        · nuts2_code (str)\n",
        "        · nuts1_code (str)\n",
        "        · country_code (str)\n",
        "        · nuts3_label (str)\n",
        "        · nuts2_label (str)\n",
        "        · nuts1_label (str)\n",
        "        · country_label (str)\n"
      ]
    },
    {
      "cell_type": "markdown",
      "metadata": {},
      "source": [
        "## Is the dataset tidy? Justify your answer\n",
        "\n",
        "No, any of the 3 datasets in 'raw_data' folder are tidy. Basically, for the deaths and population datasets we find the following problems:\n",
        "\n",
        "    · The range of year-week columns are not really variables: in fact, they are values!\n",
        "    · Some cells mix data with a 'p' character that means: provisionals. So, there are cells with more than one value.\n",
        "    · There are redundancy between rows as multiple levels of aggregation of the same data are present. For example, the NUTS-2 level rows are just the correct aggregation of NUTS-3 level rows.\n",
        "\n",
        "Also, for nuts3_catalogue we find the following:\n",
        "\n",
        "    · Same redundancy between rows as described before\n",
        "    · Not every cell corresponds with a data entry.\n",
        "\n",
        "Also, there are mixed and incorrect value types.\n",
        "\n",
        "## If not tidy, fix it!\n",
        "\n",
        "The following code implements the 3 transformations:"
      ]
    },
    {
      "cell_type": "code",
      "execution_count": null,
      "metadata": {},
      "outputs": [],
      "source": [
        "from ex2 import tidy_deaths_dataset, tidy_population_dataset, tidy_nuts_catalogue\n",
        "\n",
        "tidy_deaths_dataset(\"deaths_data.csv\", \"deaths_tidy.csv\")\n",
        "tidy_population_dataset(\"population_data.csv\", \"population_tidy.csv\")\n",
        "tidy_nuts_catalogue(\"nuts3_catalogue.csv\", \"nuts3_tidy.csv\")"
      ]
    },
    {
      "cell_type": "markdown",
      "metadata": {},
      "source": [
        "# Question 3. Non Available values\n",
        "\n",
        "First things first, yes, there are a lot of NaN values in deaths and population datasets. Also, there are 0 values. This fact is due to errors in the registration process (missing entities, age groups, etc.) and becouse, in fact, the entity has experienced a 0 value of the indicator.\n",
        "\n",
        "Bellow, we describe the adopted aproach and the transformations applied to 'tidy_data' files. The results can be found in 'clean_data' folder.\n",
        "\n",
        "## What to do? An aggressive aproach\n",
        "\n",
        "We adopt an aggressive aproach and we decide to remove all NaN rows and non informative values, that is: we remove NaN rows and 0 count rows and we assume that if one region is not present in a certain week or time point, its indicator is in fact 0.\n",
        "\n",
        "Next, we transform deaths_tidy.csv and population_tidy.csv datasets as described above. We leave as it is the nuts3_tidy.csv becouse the dataset is already clean and prepared to be used."
      ]
    },
    {
      "cell_type": "code",
      "execution_count": null,
      "metadata": {},
      "outputs": [],
      "source": [
        "from ex3 import remove_non_informative_rows, copy_file\n",
        "\n",
        "remove_non_informative_rows(\"deaths_tidy.csv\", \"deaths_clean.csv\", \"deaths\")\n",
        "remove_non_informative_rows(\"population_tidy.csv\", \"population_clean.csv\", \"population\")\n",
        "copy_file(\"tidy_data/nuts3_tidy.csv\", \"clean_data/nuts3_clean.csv\")"
      ]
    },
    {
      "cell_type": "markdown",
      "metadata": {},
      "source": [
        "# Query that filters results.\n",
        "\n",
        "## Show only some of the columns of the dataframe.\n",
        "\n",
        "At this moment we already have clean files and the next step will be to read them and apply a filter.\n",
        "\n",
        "Since we would like to have a table, all we need now is to read the files and select the values desired.\n",
        "\n",
        "Our filter consists of an overview of the deaths, age, year and nuts, of our table, showing 10 values.\n",
        "\n"
      ]
    },
    {
      "cell_type": "code",
      "execution_count": null,
      "metadata": {},
      "outputs": [],
      "source": [
        "from ex4 import show_selected_columns\n",
        "\n",
        "show_selected_columns(input_file_name = 'deaths_clean.csv', selected_columns=['deaths', 'age', 'year', 'nuts'])\n"
      ]
    },
    {
      "cell_type": "markdown",
      "metadata": {},
      "source": [
        "## Filter some of the files by one or more criteria.\n",
        "\n",
        "To make the filter we are using a mask which is applied on the df.\n",
        "\n",
        "The mask will replace the values to be only if the condition is true.\n",
        "\n",
        "In this case the filter will show us only the age ranges 15-19 or 85-89."
      ]
    },
    {
      "cell_type": "code",
      "execution_count": null,
      "metadata": {},
      "outputs": [],
      "source": [
        "from ex4 import filter_rows\n",
        "\n",
        "\n",
        "filter_rows(input_file_name= 'deaths_clean.csv')\n"
      ]
    },
    {
      "cell_type": "markdown",
      "metadata": {},
      "source": [
        "# Query to create a ranking.\n",
        "\n",
        "## That is to say, to sort the values in a column and display the first ones on the screen.\n",
        "\n",
        "In this case we we would like to find out which are the cities with the highest weekly deaths.\n",
        "\n",
        "To show this, we'll have to read the files, merges the different columns and querys the results sorting top 10.\n",
        "\n",
        "This way we can relate the city name instead of the nuts3 nomenclature."
      ]
    },
    {
      "cell_type": "code",
      "execution_count": 1,
      "metadata": {},
      "outputs": [
        {
          "data": {
            "text/html": [
              "<div>\n",
              "<style scoped>\n",
              "    .dataframe tbody tr th:only-of-type {\n",
              "        vertical-align: middle;\n",
              "    }\n",
              "\n",
              "    .dataframe tbody tr th {\n",
              "        vertical-align: top;\n",
              "    }\n",
              "\n",
              "    .dataframe thead th {\n",
              "        text-align: right;\n",
              "    }\n",
              "</style>\n",
              "<table border=\"1\" class=\"dataframe\">\n",
              "  <thead>\n",
              "    <tr style=\"text-align: right;\">\n",
              "      <th></th>\n",
              "      <th>nuts3_label</th>\n",
              "      <th>deaths</th>\n",
              "    </tr>\n",
              "  </thead>\n",
              "  <tbody>\n",
              "    <tr>\n",
              "      <th>95</th>\n",
              "      <td>Barcelona</td>\n",
              "      <td>50198.0</td>\n",
              "    </tr>\n",
              "    <tr>\n",
              "      <th>357</th>\n",
              "      <td>Madrid</td>\n",
              "      <td>49647.0</td>\n",
              "    </tr>\n",
              "    <tr>\n",
              "      <th>498</th>\n",
              "      <td>Roma</td>\n",
              "      <td>45230.0</td>\n",
              "    </tr>\n",
              "    <tr>\n",
              "      <th>384</th>\n",
              "      <td>Milano</td>\n",
              "      <td>33609.0</td>\n",
              "    </tr>\n",
              "    <tr>\n",
              "      <th>671</th>\n",
              "      <td>Área Metropolitana de Lisboa</td>\n",
              "      <td>33114.0</td>\n",
              "    </tr>\n",
              "    <tr>\n",
              "      <th>398</th>\n",
              "      <td>Napoli</td>\n",
              "      <td>31071.0</td>\n",
              "    </tr>\n",
              "    <tr>\n",
              "      <th>129</th>\n",
              "      <td>Bucureşti</td>\n",
              "      <td>29089.0</td>\n",
              "    </tr>\n",
              "    <tr>\n",
              "      <th>743</th>\n",
              "      <td>Београдска област</td>\n",
              "      <td>28678.0</td>\n",
              "    </tr>\n",
              "    <tr>\n",
              "      <th>575</th>\n",
              "      <td>Torino</td>\n",
              "      <td>28210.0</td>\n",
              "    </tr>\n",
              "    <tr>\n",
              "      <th>411</th>\n",
              "      <td>Nord</td>\n",
              "      <td>25275.0</td>\n",
              "    </tr>\n",
              "  </tbody>\n",
              "</table>\n",
              "</div>"
            ],
            "text/plain": [
              "                      nuts3_label   deaths\n",
              "95                      Barcelona  50198.0\n",
              "357                        Madrid  49647.0\n",
              "498                          Roma  45230.0\n",
              "384                        Milano  33609.0\n",
              "671  Área Metropolitana de Lisboa  33114.0\n",
              "398                        Napoli  31071.0\n",
              "129                     Bucureşti  29089.0\n",
              "743             Београдска област  28678.0\n",
              "575                        Torino  28210.0\n",
              "411                          Nord  25275.0"
            ]
          },
          "execution_count": 1,
          "metadata": {},
          "output_type": "execute_result"
        }
      ],
      "source": [
        "from ex5 import get_top_deaths_by_city\n",
        "\n",
        "get_top_deaths_by_city('deaths_clean.csv', 'nuts3_clean.csv','nuts3_label')"
      ]
    },
    {
      "cell_type": "markdown",
      "metadata": {},
      "source": [
        "## Display graphic \n",
        "\n",
        "To compare the data previously queried, we will create a graph. This function will display a ranking of weekly deaths by city.\n",
        "\n",
        "For the display we use plot.bar taking by_column as X and Deaths on y."
      ]
    },
    {
      "cell_type": "code",
      "execution_count": 2,
      "metadata": {},
      "outputs": [
        {
          "data": {
            "image/png": "[encoded data removed]",
            "text/plain": [
              "<Figure size 640x480 with 1 Axes>"
            ]
          },
          "metadata": {},
          "output_type": "display_data"
        }
      ],
      "source": [
        "from ex5 import show_ranking_deaths_by_city\n",
        "\n",
        "show_ranking_deaths_by_city('deaths_clean.csv', 'nuts3_clean.csv','nuts3_label')    \n"
      ]
    },
    {
      "cell_type": "markdown",
      "metadata": {},
      "source": [
        "# Query that creates at least one calculated column.\n",
        "\n",
        "That is to say, the query creates a new field depending on another field, or calculated from from other columns.\n",
        "\n",
        "For this we'll read the files, merge to unite them, filter with a query and calculate the values.\n",
        "\n",
        "The result is saved on the folder Results. If everything is correct, it will print a confirmation."
      ]
    },
    {
      "cell_type": "code",
      "execution_count": 6,
      "metadata": {},
      "outputs": [
        {
          "name": "stdout",
          "output_type": "stream",
          "text": [
            "# Exporting mortality_rate_by_region.csv ...\n",
            "# Exported succesfully.\n"
          ]
        }
      ],
      "source": [
        "from ex6 import get_mortality_rate\n",
        "\n",
        "get_mortality_rate(\"deaths_clean.csv\", \"population_clean.csv\", \"nuts3_clean.csv\" )"
      ]
    },
    {
      "cell_type": "markdown",
      "metadata": {},
      "source": [
        "# Question 7) Query with grouped data by categorical field. \n",
        "\n",
        "## We assign a category based on each death rate range as follows: \n",
        "\n",
        "    - More than 12%o --> \"Over average\"\n",
        "\n",
        "    - Up to 12%o and more than 9%o --> \"Average\"\n",
        "\n",
        "    - Less than 9%o --> \"Below average\" \n",
        "    \n",
        "\n",
        "Then, the graphs shows how many regions fall into each category."
      ]
    },
    {
      "cell_type": "code",
      "execution_count": null,
      "metadata": {},
      "outputs": [],
      "source": [
        "from ex7 import show_mortality_rates\n",
        "\n",
        "show_mortality_rates(\"mortality_rate_by_region.csv\", [0, 9, 12, 100], [\"Below average\", \"Average\", \"Over average\"])"
      ]
    },
    {
      "cell_type": "markdown",
      "metadata": {},
      "source": [
        "# Question 8) Query with grouped data by date \n",
        "\n",
        "## Here the data existing in the 'date' column from a dataframe is used to show a lines chart comparing the evolution in time of the of the mortality rate among different countries defined in a list"
      ]
    },
    {
      "cell_type": "code",
      "execution_count": null,
      "metadata": {},
      "outputs": [],
      "source": [
        "from ex8 import show_mortality_rates_by_week \n",
        "\n",
        "show_mortality_rates_by_week(\"deaths_clean.csv\", \"nuts3_clean.csv\", \"population_clean.csv\", [\"España\", \"France\", \"Portugal\", \"Italia\", \"Deutschland\", \"Suomi/Finland\"])"
      ]
    },
    {
      "cell_type": "markdown",
      "metadata": {},
      "source": [
        "# Question 9)\n",
        "\n",
        "## Here the data from a csv file containing deaths numbers merged with the corresponding nuts region data existing in the nuts csv file is displayed"
      ]
    },
    {
      "cell_type": "code",
      "execution_count": null,
      "metadata": {},
      "outputs": [],
      "source": [
        "from ex9 import merge_dataframes \n",
        "\n",
        "merge_dataframes(\"deaths_clean.csv\", \"nuts3_clean.csv\")"
      ]
    }
  ],
  "metadata": {
    "colab": {
      "collapsed_sections": [],
      "provenance": []
    },
    "kernelspec": {
      "display_name": "Python 3.10.6 ('AymaProven')",
      "language": "python",
      "name": "python3"
    },
    "language_info": {
      "codemirror_mode": {
        "name": "ipython",
        "version": 3
      },
      "file_extension": ".py",
      "mimetype": "text/x-python",
      "name": "python",
      "nbconvert_exporter": "python",
      "pygments_lexer": "ipython3",
      "version": "3.10.6"
    },
    "vscode": {
      "interpreter": {
        "hash": "082c6f0ca5c9d536e289f749c81077e5edc00b40d2a843781121a2462b8d8819"
      }
    }
  },
  "nbformat": 4,
  "nbformat_minor": 0
}
